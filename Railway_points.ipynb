{
 "cells": [
  {
   "cell_type": "code",
   "execution_count": 1,
   "id": "fef34115",
   "metadata": {},
   "outputs": [],
   "source": [
    "import pandas as pd\n",
    "import seaborn as sns\n",
    "import matplotlib.pyplot as plt\n",
    "from sklearn.model_selection import train_test_split\n",
    "from sklearn.ensemble import RandomForestClassifier\n",
    "from sklearn import tree\n",
    "import numpy as np\n",
    "from sklearn.metrics import recall_score, precision_score\n",
    "import imblearn\n",
    "from xgboost import XGBClassifier\n",
    "\n",
    "%matplotlib inline"
   ]
  },
  {
   "cell_type": "code",
   "execution_count": 2,
   "id": "70a7f3c6",
   "metadata": {},
   "outputs": [],
   "source": [
    "df_train = pd.read_csv(\"train_dataset_train.csv\")"
   ]
  },
  {
   "cell_type": "code",
   "execution_count": 29,
   "id": "628b06fa",
   "metadata": {},
   "outputs": [
    {
     "data": {
      "text/html": [
       "<div>\n",
       "<style scoped>\n",
       "    .dataframe tbody tr th:only-of-type {\n",
       "        vertical-align: middle;\n",
       "    }\n",
       "\n",
       "    .dataframe tbody tr th {\n",
       "        vertical-align: top;\n",
       "    }\n",
       "\n",
       "    .dataframe thead th {\n",
       "        text-align: right;\n",
       "    }\n",
       "</style>\n",
       "<table border=\"1\" class=\"dataframe\">\n",
       "  <thead>\n",
       "    <tr style=\"text-align: right;\">\n",
       "      <th></th>\n",
       "      <th>id</th>\n",
       "      <th>Easting</th>\n",
       "      <th>Northing</th>\n",
       "      <th>Height</th>\n",
       "      <th>Reflectance</th>\n",
       "      <th>Class</th>\n",
       "    </tr>\n",
       "  </thead>\n",
       "  <tbody>\n",
       "    <tr>\n",
       "      <th>0</th>\n",
       "      <td>2321251</td>\n",
       "      <td>431696.5375</td>\n",
       "      <td>6.032319e+06</td>\n",
       "      <td>69.2226</td>\n",
       "      <td>-11.14</td>\n",
       "      <td>0</td>\n",
       "    </tr>\n",
       "    <tr>\n",
       "      <th>1</th>\n",
       "      <td>3515173</td>\n",
       "      <td>431710.3835</td>\n",
       "      <td>6.032291e+06</td>\n",
       "      <td>68.9711</td>\n",
       "      <td>-15.16</td>\n",
       "      <td>3</td>\n",
       "    </tr>\n",
       "    <tr>\n",
       "      <th>2</th>\n",
       "      <td>2320295</td>\n",
       "      <td>431696.8099</td>\n",
       "      <td>6.032322e+06</td>\n",
       "      <td>69.2453</td>\n",
       "      <td>-13.59</td>\n",
       "      <td>0</td>\n",
       "    </tr>\n",
       "    <tr>\n",
       "      <th>3</th>\n",
       "      <td>2454459</td>\n",
       "      <td>431680.4542</td>\n",
       "      <td>6.032343e+06</td>\n",
       "      <td>69.1892</td>\n",
       "      <td>-11.21</td>\n",
       "      <td>0</td>\n",
       "    </tr>\n",
       "    <tr>\n",
       "      <th>4</th>\n",
       "      <td>4608150</td>\n",
       "      <td>431720.0914</td>\n",
       "      <td>6.032288e+06</td>\n",
       "      <td>67.3252</td>\n",
       "      <td>-9.10</td>\n",
       "      <td>0</td>\n",
       "    </tr>\n",
       "  </tbody>\n",
       "</table>\n",
       "</div>"
      ],
      "text/plain": [
       "        id      Easting      Northing   Height  Reflectance  Class\n",
       "0  2321251  431696.5375  6.032319e+06  69.2226       -11.14      0\n",
       "1  3515173  431710.3835  6.032291e+06  68.9711       -15.16      3\n",
       "2  2320295  431696.8099  6.032322e+06  69.2453       -13.59      0\n",
       "3  2454459  431680.4542  6.032343e+06  69.1892       -11.21      0\n",
       "4  4608150  431720.0914  6.032288e+06  67.3252        -9.10      0"
      ]
     },
     "execution_count": 29,
     "metadata": {},
     "output_type": "execute_result"
    }
   ],
   "source": [
    "df_train.head()"
   ]
  },
  {
   "cell_type": "code",
   "execution_count": 3,
   "id": "60a9bce0",
   "metadata": {},
   "outputs": [],
   "source": [
    "df_train.loc[(df_train.Class == 64), 'Class'] = 2"
   ]
  },
  {
   "cell_type": "code",
   "execution_count": 31,
   "id": "7f8052ea",
   "metadata": {},
   "outputs": [
    {
     "data": {
      "text/plain": [
       "0    2731040\n",
       "3    1287816\n",
       "4     103453\n",
       "5      55985\n",
       "1      39384\n",
       "2       4416\n",
       "Name: Class, dtype: int64"
      ]
     },
     "execution_count": 31,
     "metadata": {},
     "output_type": "execute_result"
    }
   ],
   "source": [
    "df_train.Class.value_counts()"
   ]
  },
  {
   "cell_type": "code",
   "execution_count": 48,
   "id": "8272adf8",
   "metadata": {},
   "outputs": [],
   "source": [
    "X = df_train.drop([\"Class\", \"id\"], axis = 1)\n",
    "y = df_train[\"Class\"]"
   ]
  },
  {
   "cell_type": "code",
   "execution_count": 49,
   "id": "a6448489",
   "metadata": {},
   "outputs": [],
   "source": [
    "from imblearn.under_sampling import NearMiss\n",
    "nm = NearMiss()\n",
    "X_train_miss, Y_train_miss = nm.fit_resample(X, y.ravel())"
   ]
  },
  {
   "cell_type": "code",
   "execution_count": 50,
   "id": "7a62ceb8",
   "metadata": {},
   "outputs": [],
   "source": [
    "X_train, X_test, y_train, y_test = train_test_split(X_train_miss, Y_train_miss, random_state = 1)"
   ]
  },
  {
   "cell_type": "code",
   "execution_count": 51,
   "id": "58b86459",
   "metadata": {},
   "outputs": [
    {
     "data": {
      "text/plain": [
       "((19872, 4), (6624, 4), (19872,), (6624,))"
      ]
     },
     "execution_count": 51,
     "metadata": {},
     "output_type": "execute_result"
    }
   ],
   "source": [
    "X_train.shape, X_test.shape, y_train.shape, y_test.shape"
   ]
  },
  {
   "cell_type": "code",
   "execution_count": 36,
   "id": "8665b792",
   "metadata": {},
   "outputs": [
    {
     "name": "stdout",
     "output_type": "stream",
     "text": [
      "Best: -0.196090 using {'learning_rate': 0.05, 'n_estimators': 700}\n",
      "-0.511518 (0.011194) with: {'learning_rate': 0.01, 'n_estimators': 200}\n",
      "-0.263438 (0.011355) with: {'learning_rate': 0.01, 'n_estimators': 600}\n",
      "-0.249373 (0.010914) with: {'learning_rate': 0.01, 'n_estimators': 700}\n",
      "-0.240654 (0.010520) with: {'learning_rate': 0.01, 'n_estimators': 800}\n",
      "-0.228677 (0.009908) with: {'learning_rate': 0.01, 'n_estimators': 1000}\n",
      "-0.228273 (0.010060) with: {'learning_rate': 0.05, 'n_estimators': 200}\n",
      "-0.196622 (0.009405) with: {'learning_rate': 0.05, 'n_estimators': 600}\n",
      "-0.196090 (0.009455) with: {'learning_rate': 0.05, 'n_estimators': 700}\n",
      "-0.196377 (0.009373) with: {'learning_rate': 0.05, 'n_estimators': 800}\n",
      "-0.198224 (0.009788) with: {'learning_rate': 0.05, 'n_estimators': 1000}\n",
      "-0.202103 (0.009391) with: {'learning_rate': 0.1, 'n_estimators': 200}\n",
      "-0.202040 (0.010946) with: {'learning_rate': 0.1, 'n_estimators': 600}\n",
      "-0.204925 (0.011176) with: {'learning_rate': 0.1, 'n_estimators': 700}\n",
      "-0.208054 (0.011459) with: {'learning_rate': 0.1, 'n_estimators': 800}\n",
      "-0.214480 (0.011492) with: {'learning_rate': 0.1, 'n_estimators': 1000}\n",
      "-0.197642 (0.010630) with: {'learning_rate': 0.2, 'n_estimators': 200}\n",
      "-0.220867 (0.011886) with: {'learning_rate': 0.2, 'n_estimators': 600}\n",
      "-0.226976 (0.011937) with: {'learning_rate': 0.2, 'n_estimators': 700}\n",
      "-0.232959 (0.012144) with: {'learning_rate': 0.2, 'n_estimators': 800}\n",
      "-0.243661 (0.012191) with: {'learning_rate': 0.2, 'n_estimators': 1000}\n",
      "-0.203175 (0.010272) with: {'learning_rate': 0.3, 'n_estimators': 200}\n",
      "-0.240567 (0.011508) with: {'learning_rate': 0.3, 'n_estimators': 600}\n",
      "-0.248327 (0.011384) with: {'learning_rate': 0.3, 'n_estimators': 700}\n",
      "-0.254706 (0.011697) with: {'learning_rate': 0.3, 'n_estimators': 800}\n",
      "-0.265946 (0.011552) with: {'learning_rate': 0.3, 'n_estimators': 1000}\n"
     ]
    }
   ],
   "source": [
    "from pandas import read_csv\n",
    "from xgboost import XGBClassifier\n",
    "from sklearn.model_selection import GridSearchCV\n",
    "from sklearn.model_selection import StratifiedKFold\n",
    "from sklearn.preprocessing import LabelEncoder\n",
    "import matplotlib\n",
    "matplotlib.use('Agg')\n",
    "from matplotlib import pyplot\n",
    "import numpy\n",
    "# split data into X and y\n",
    "X = X_train\n",
    "y = y_train\n",
    "# grid search\n",
    "model = XGBClassifier()\n",
    "n_estimators = [1000]\n",
    "learning_rate = [0.01, 0.05, 0.1, 0.2, 0.3]\n",
    "param_grid = dict(learning_rate=learning_rate, n_estimators=n_estimators)\n",
    "kfold = StratifiedKFold(n_splits=10, shuffle=True, random_state=7)\n",
    "grid_search = GridSearchCV(model, param_grid, scoring=\"neg_log_loss\", n_jobs=-1, cv=kfold)\n",
    "grid_result = grid_search.fit(X, y)\n",
    "# summarize results\n",
    "print(\"Best: %f using %s\" % (grid_result.best_score_, grid_result.best_params_))\n",
    "means = grid_result.cv_results_['mean_test_score']\n",
    "stds = grid_result.cv_results_['std_test_score']\n",
    "params = grid_result.cv_results_['params']\n",
    "for mean, stdev, param in zip(means, stds, params):\n",
    "\tprint(\"%f (%f) with: %r\" % (mean, stdev, param))\n",
    "# plot results\n",
    "scores = numpy.array(means).reshape(len(learning_rate), len(n_estimators))\n",
    "for i, value in enumerate(learning_rate):\n",
    "    pyplot.plot(n_estimators, scores[i], label='learning_rate: ' + str(value))\n",
    "pyplot.legend()\n",
    "pyplot.xlabel('n_estimators')\n",
    "pyplot.ylabel('Log Loss')\n",
    "pyplot.savefig('n_estimators_vs_learning_rate.png')"
   ]
  },
  {
   "cell_type": "code",
   "execution_count": 4,
   "id": "19f3ff04",
   "metadata": {},
   "outputs": [
    {
     "data": {
      "text/plain": [
       "(4222094, 4)"
      ]
     },
     "execution_count": 4,
     "metadata": {},
     "output_type": "execute_result"
    }
   ],
   "source": [
    "X = df_train.drop([\"Class\", \"id\"], axis = 1)\n",
    "y = df_train[\"Class\"]\n",
    "X.shape"
   ]
  },
  {
   "cell_type": "code",
   "execution_count": 5,
   "id": "0151b277",
   "metadata": {},
   "outputs": [],
   "source": [
    "from imblearn.over_sampling import SMOTE\n",
    "sm = SMOTE()\n",
    "X_res, y_res = sm.fit_resample(X, y)"
   ]
  },
  {
   "cell_type": "code",
   "execution_count": 6,
   "id": "e6fc717d",
   "metadata": {},
   "outputs": [
    {
     "data": {
      "text/plain": [
       "((5735184, 4), (10651056, 4), (5735184,), (10651056,))"
      ]
     },
     "execution_count": 6,
     "metadata": {},
     "output_type": "execute_result"
    }
   ],
   "source": [
    "X_train, X_test, y_train, y_test = train_test_split(X_res, y_res, test_size=0.65, shuffle = True, random_state = 1)\n",
    "X_train.shape, X_test.shape, y_train.shape, y_test.shape"
   ]
  },
  {
   "cell_type": "code",
   "execution_count": 7,
   "id": "c81b4437",
   "metadata": {},
   "outputs": [
    {
     "name": "stderr",
     "output_type": "stream",
     "text": [
      "C:\\Users\\asus\\anaconda3\\lib\\site-packages\\xgboost\\sklearn.py:793: UserWarning: `early_stopping_rounds` in `fit` method is deprecated for better compatibility with scikit-learn, use `early_stopping_rounds` in constructor or`set_params` instead.\n",
      "  warnings.warn(\n"
     ]
    }
   ],
   "source": [
    "my_model = XGBClassifier(n_estimators=1000, learning_rate=0.1)\n",
    "my_model.fit(X_train, y_train, \n",
    "             early_stopping_rounds=10, \n",
    "             eval_set=[(X_test, y_test)], \n",
    "             verbose=False)\n",
    "y_pred = my_model.predict(X_test)"
   ]
  },
  {
   "cell_type": "code",
   "execution_count": 8,
   "id": "a2a51009",
   "metadata": {},
   "outputs": [
    {
     "name": "stdout",
     "output_type": "stream",
     "text": [
      "доля верных прогнозов алгоритма: 98.63708349669741\n"
     ]
    }
   ],
   "source": [
    "from sklearn.metrics import accuracy_score, confusion_matrix, roc_auc_score, mean_absolute_error\n",
    "my_model_acc = accuracy_score(y_pred, y_test) * 100\n",
    "print(\"доля верных прогнозов алгоритма:\", my_model_acc)"
   ]
  },
  {
   "cell_type": "code",
   "execution_count": 9,
   "id": "9e2e529e",
   "metadata": {},
   "outputs": [],
   "source": [
    "test_data = pd.read_csv('test_dataset_test.csv')\n",
    "features = ['Easting','Northing','Height','Reflectance']\n",
    "test_X = test_data[features]\n",
    "y_pred_all_data = my_model.predict(test_X)\n"
   ]
  },
  {
   "cell_type": "code",
   "execution_count": 10,
   "id": "62045910",
   "metadata": {},
   "outputs": [
    {
     "data": {
      "text/plain": [
       "0     1149637\n",
       "3      557241\n",
       "4       51517\n",
       "5       23940\n",
       "1       16739\n",
       "64      10395\n",
       "Name: Class, dtype: int64"
      ]
     },
     "execution_count": 10,
     "metadata": {},
     "output_type": "execute_result"
    }
   ],
   "source": [
    "output = pd.DataFrame({'id': test_data.id,\n",
    "                       'Class': y_pred_all_data})\n",
    "output['Class'] = np.where((output.Class == 2), 64, output.Class)\n",
    "output['Class'].value_counts()"
   ]
  },
  {
   "cell_type": "code",
   "execution_count": 11,
   "id": "75b45e47",
   "metadata": {},
   "outputs": [],
   "source": [
    "output.to_csv('submission97.csv', index=False)"
   ]
  }
 ],
 "metadata": {
  "kernelspec": {
   "display_name": "Python 3 (ipykernel)",
   "language": "python",
   "name": "python3"
  },
  "language_info": {
   "codemirror_mode": {
    "name": "ipython",
    "version": 3
   },
   "file_extension": ".py",
   "mimetype": "text/x-python",
   "name": "python",
   "nbconvert_exporter": "python",
   "pygments_lexer": "ipython3",
   "version": "3.9.12"
  }
 },
 "nbformat": 4,
 "nbformat_minor": 5
}
